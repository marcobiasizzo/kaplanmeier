{
 "cells": [
  {
   "cell_type": "code",
   "execution_count": 1,
   "id": "9496a96e",
   "metadata": {},
   "outputs": [
    {
     "ename": "ModuleNotFoundError",
     "evalue": "No module named 'kaplanmeier.helpers'; 'kaplanmeier' is not a package",
     "output_type": "error",
     "traceback": [
      "\u001b[0;31m---------------------------------------------------------------------------\u001b[0m",
      "\u001b[0;31mModuleNotFoundError\u001b[0m                       Traceback (most recent call last)",
      "Cell \u001b[0;32mIn[1], line 2\u001b[0m\n\u001b[1;32m      1\u001b[0m \u001b[38;5;66;03m# Import library\u001b[39;00m\n\u001b[0;32m----> 2\u001b[0m \u001b[38;5;28;01mimport\u001b[39;00m \u001b[38;5;21;01mkaplanmeier\u001b[39;00m \u001b[38;5;28;01mas\u001b[39;00m \u001b[38;5;21;01mkm\u001b[39;00m\n\u001b[1;32m      3\u001b[0m \u001b[38;5;28;01mimport\u001b[39;00m \u001b[38;5;21;01mpandas\u001b[39;00m \u001b[38;5;28;01mas\u001b[39;00m \u001b[38;5;21;01mpd\u001b[39;00m\n\u001b[1;32m      4\u001b[0m \u001b[38;5;28;01mfrom\u001b[39;00m \u001b[38;5;21;01mdatetime\u001b[39;00m \u001b[38;5;28;01mimport\u001b[39;00m datetime\n",
      "File \u001b[0;32m~/kaplan-meyer/kaplanmeier/kaplanmeier/kaplanmeier.py:17\u001b[0m\n\u001b[1;32m     15\u001b[0m \u001b[38;5;28;01mfrom\u001b[39;00m \u001b[38;5;21;01mlifelines\u001b[39;00m \u001b[38;5;28;01mimport\u001b[39;00m KaplanMeierFitter\n\u001b[1;32m     16\u001b[0m \u001b[38;5;28;01mfrom\u001b[39;00m \u001b[38;5;21;01mlifelines\u001b[39;00m\u001b[38;5;21;01m.\u001b[39;00m\u001b[38;5;21;01mplotting\u001b[39;00m \u001b[38;5;28;01mimport\u001b[39;00m add_at_risk_counts\n\u001b[0;32m---> 17\u001b[0m \u001b[38;5;28;01mfrom\u001b[39;00m \u001b[38;5;21;01mkaplanmeier\u001b[39;00m\u001b[38;5;21;01m.\u001b[39;00m\u001b[38;5;21;01mhelpers\u001b[39;00m\u001b[38;5;21;01m.\u001b[39;00m\u001b[38;5;21;01msavefig\u001b[39;00m \u001b[38;5;28;01mimport\u001b[39;00m savefig\n\u001b[1;32m     18\u001b[0m \u001b[38;5;28;01mfrom\u001b[39;00m \u001b[38;5;21;01mmatplotlib\u001b[39;00m\u001b[38;5;21;01m.\u001b[39;00m\u001b[38;5;21;01mticker\u001b[39;00m \u001b[38;5;28;01mimport\u001b[39;00m PercentFormatter\n\u001b[1;32m     21\u001b[0m \u001b[38;5;66;03m# %% Main function\u001b[39;00m\n",
      "\u001b[0;31mModuleNotFoundError\u001b[0m: No module named 'kaplanmeier.helpers'; 'kaplanmeier' is not a package"
     ]
    }
   ],
   "source": [
    "# Import library\n",
    "import kaplanmeier as km\n",
    "import pandas as pd\n",
    "from datetime import datetime"
   ]
  },
  {
   "cell_type": "code",
   "execution_count": null,
   "id": "1001854c",
   "metadata": {},
   "outputs": [],
   "source": []
  },
  {
   "cell_type": "code",
   "execution_count": null,
   "id": "ca588f25",
   "metadata": {},
   "outputs": [],
   "source": [
    "# Import example data\n",
    "df = pd.read_csv('esempio_dati.csv', sep=',')\n",
    "print(df)"
   ]
  },
  {
   "cell_type": "code",
   "execution_count": null,
   "id": "8fe0385f",
   "metadata": {},
   "outputs": [],
   "source": [
    "# Data\n",
    "inizio = df['inizio']\n",
    "fine = df['fine']\n",
    "\n",
    "time_event = []\n",
    "for i, f in zip(inizio, fine):\n",
    "    i_dt = (datetime.strptime(i, \"%m/%d/%y\"))\n",
    "    f_dt = (datetime.strptime(f, \"%m/%d/%y\"))\n",
    "    time_event.append((f_dt - i_dt).days)\n",
    "    \n",
    "time_event = pd.Series(time_event)\n",
    "censoring = df['died']\n",
    "y = df['group']"
   ]
  },
  {
   "cell_type": "code",
   "execution_count": null,
   "id": "678f95d6",
   "metadata": {},
   "outputs": [],
   "source": [
    "type(censoring)"
   ]
  },
  {
   "cell_type": "code",
   "execution_count": null,
   "id": "d26bafa6",
   "metadata": {},
   "outputs": [],
   "source": [
    "# Compute Survival\n",
    "results = km.fit(time_event, censoring, y)"
   ]
  },
  {
   "cell_type": "code",
   "execution_count": null,
   "id": "911ba59f",
   "metadata": {},
   "outputs": [],
   "source": [
    "results"
   ]
  },
  {
   "cell_type": "code",
   "execution_count": null,
   "id": "a43742e2",
   "metadata": {},
   "outputs": [],
   "source": [
    "# Plot\n",
    "km.plot(results, cii_alpha=0, full_ylim=True, y_percentage=True, show_median=True)"
   ]
  },
  {
   "cell_type": "code",
   "execution_count": null,
   "id": "226dd639",
   "metadata": {},
   "outputs": [],
   "source": []
  }
 ],
 "metadata": {
  "kernelspec": {
   "display_name": "Python 3 (ipykernel)",
   "language": "python",
   "name": "python3"
  },
  "language_info": {
   "codemirror_mode": {
    "name": "ipython",
    "version": 3
   },
   "file_extension": ".py",
   "mimetype": "text/x-python",
   "name": "python",
   "nbconvert_exporter": "python",
   "pygments_lexer": "ipython3",
   "version": "3.10.12"
  }
 },
 "nbformat": 4,
 "nbformat_minor": 5
}
